{
  "nbformat": 4,
  "nbformat_minor": 0,
  "metadata": {
    "colab": {
      "provenance": [],
      "authorship_tag": "ABX9TyPETE5HelSORiCePSiAUhvJ",
      "include_colab_link": true
    },
    "kernelspec": {
      "name": "python3",
      "display_name": "Python 3"
    },
    "language_info": {
      "name": "python"
    }
  },
  "cells": [
    {
      "cell_type": "markdown",
      "metadata": {
        "id": "view-in-github",
        "colab_type": "text"
      },
      "source": [
        "<a href=\"https://colab.research.google.com/github/eliashossain001/Quantum-ML/blob/main/QML_01.ipynb\" target=\"_parent\"><img src=\"https://colab.research.google.com/assets/colab-badge.svg\" alt=\"Open In Colab\"/></a>"
      ]
    },
    {
      "cell_type": "code",
      "execution_count": null,
      "metadata": {
        "id": "StQGU44ZFsWO"
      },
      "outputs": [],
      "source": []
    },
    {
      "cell_type": "markdown",
      "source": [
        "### Setup and Installation"
      ],
      "metadata": {
        "id": "j5sd2q_dF5dv"
      }
    },
    {
      "cell_type": "code",
      "source": [
        "!pip install pennylane\n",
        "!pip install pennylane[torch]    # if you want PyTorch\n",
        "!pip install pennylane[tensorflow]   # if you want TensorFlow"
      ],
      "metadata": {
        "colab": {
          "base_uri": "https://localhost:8080/"
        },
        "id": "oQ4Ge8z6Fx7X",
        "outputId": "86205686-b2f9-41db-d318-2c0abb31e762"
      },
      "execution_count": 1,
      "outputs": [
        {
          "output_type": "stream",
          "name": "stdout",
          "text": [
            "\u001b[31mERROR: Operation cancelled by user\u001b[0m\u001b[31m\n",
            "\u001b[0mCollecting pennylane[torch]\n",
            "  Downloading pennylane-0.42.3-py3-none-any.whl.metadata (11 kB)\n",
            "\u001b[33mWARNING: pennylane 0.42.3 does not provide the extra 'torch'\u001b[0m\u001b[33m\n",
            "\u001b[0mRequirement already satisfied: scipy in /usr/local/lib/python3.12/dist-packages (from pennylane[torch]) (1.16.2)\n",
            "Requirement already satisfied: networkx in /usr/local/lib/python3.12/dist-packages (from pennylane[torch]) (3.5)\n",
            "Collecting rustworkx>=0.14.0 (from pennylane[torch])\n",
            "  Downloading rustworkx-0.17.1-cp39-abi3-manylinux_2_17_x86_64.manylinux2014_x86_64.whl.metadata (10 kB)\n",
            "Requirement already satisfied: autograd in /usr/local/lib/python3.12/dist-packages (from pennylane[torch]) (1.8.0)\n",
            "Collecting appdirs (from pennylane[torch])\n",
            "  Downloading appdirs-1.4.4-py2.py3-none-any.whl.metadata (9.0 kB)\n",
            "Collecting autoray<0.8,>=0.6.11 (from pennylane[torch])\n",
            "  Downloading autoray-0.7.2-py3-none-any.whl.metadata (5.8 kB)\n",
            "Requirement already satisfied: cachetools in /usr/local/lib/python3.12/dist-packages (from pennylane[torch]) (5.5.2)\n",
            "Collecting pennylane-lightning>=0.42 (from pennylane[torch])\n",
            "  Downloading pennylane_lightning-0.42.0-cp312-cp312-manylinux_2_28_x86_64.whl.metadata (11 kB)\n",
            "Requirement already satisfied: requests in /usr/local/lib/python3.12/dist-packages (from pennylane[torch]) (2.32.4)\n",
            "Requirement already satisfied: tomlkit in /usr/local/lib/python3.12/dist-packages (from pennylane[torch]) (0.13.3)\n",
            "Requirement already satisfied: typing_extensions in /usr/local/lib/python3.12/dist-packages (from pennylane[torch]) (4.15.0)\n",
            "Requirement already satisfied: packaging in /usr/local/lib/python3.12/dist-packages (from pennylane[torch]) (25.0)\n",
            "Collecting diastatic-malt (from pennylane[torch])\n",
            "  Downloading diastatic_malt-2.15.2-py3-none-any.whl.metadata (2.6 kB)\n",
            "Requirement already satisfied: numpy in /usr/local/lib/python3.12/dist-packages (from pennylane[torch]) (2.0.2)\n",
            "Collecting scipy-openblas32>=0.3.26 (from pennylane-lightning>=0.42->pennylane[torch])\n",
            "  Downloading scipy_openblas32-0.3.30.0.2-py3-none-manylinux2014_x86_64.manylinux_2_17_x86_64.whl.metadata (57 kB)\n",
            "\u001b[2K     \u001b[90m━━━━━━━━━━━━━━━━━━━━━━━━━━━━━━━━━━━━━━━━\u001b[0m \u001b[32m57.1/57.1 kB\u001b[0m \u001b[31m1.7 MB/s\u001b[0m eta \u001b[36m0:00:00\u001b[0m\n",
            "\u001b[?25hRequirement already satisfied: astunparse in /usr/local/lib/python3.12/dist-packages (from diastatic-malt->pennylane[torch]) (1.6.3)\n",
            "Requirement already satisfied: gast in /usr/local/lib/python3.12/dist-packages (from diastatic-malt->pennylane[torch]) (0.6.0)\n",
            "Requirement already satisfied: termcolor in /usr/local/lib/python3.12/dist-packages (from diastatic-malt->pennylane[torch]) (3.1.0)\n",
            "Requirement already satisfied: charset_normalizer<4,>=2 in /usr/local/lib/python3.12/dist-packages (from requests->pennylane[torch]) (3.4.3)\n",
            "Requirement already satisfied: idna<4,>=2.5 in /usr/local/lib/python3.12/dist-packages (from requests->pennylane[torch]) (3.10)\n",
            "Requirement already satisfied: urllib3<3,>=1.21.1 in /usr/local/lib/python3.12/dist-packages (from requests->pennylane[torch]) (2.5.0)\n",
            "Requirement already satisfied: certifi>=2017.4.17 in /usr/local/lib/python3.12/dist-packages (from requests->pennylane[torch]) (2025.8.3)\n",
            "Requirement already satisfied: wheel<1.0,>=0.23.0 in /usr/local/lib/python3.12/dist-packages (from astunparse->diastatic-malt->pennylane[torch]) (0.45.1)\n",
            "Requirement already satisfied: six<2.0,>=1.6.1 in /usr/local/lib/python3.12/dist-packages (from astunparse->diastatic-malt->pennylane[torch]) (1.17.0)\n",
            "Downloading autoray-0.7.2-py3-none-any.whl (930 kB)\n",
            "\u001b[2K   \u001b[90m━━━━━━━━━━━━━━━━━━━━━━━━━━━━━━━━━━━━━━━━\u001b[0m \u001b[32m930.8/930.8 kB\u001b[0m \u001b[31m15.9 MB/s\u001b[0m eta \u001b[36m0:00:00\u001b[0m\n",
            "\u001b[?25hDownloading pennylane_lightning-0.42.0-cp312-cp312-manylinux_2_28_x86_64.whl (2.6 MB)\n",
            "\u001b[2K   \u001b[90m━━━━━━━━━━━━━━━━━━━━━━━━━━━━━━━━━━━━━━━━\u001b[0m \u001b[32m2.6/2.6 MB\u001b[0m \u001b[31m57.4 MB/s\u001b[0m eta \u001b[36m0:00:00\u001b[0m\n",
            "\u001b[?25hDownloading pennylane-0.42.3-py3-none-any.whl (4.8 MB)\n",
            "\u001b[2K   \u001b[90m━━━━━━━━━━━━━━━━━━━━━━━━━━━━━━━━━━━━━━━━\u001b[0m \u001b[32m4.8/4.8 MB\u001b[0m \u001b[31m77.5 MB/s\u001b[0m eta \u001b[36m0:00:00\u001b[0m\n",
            "\u001b[?25hDownloading rustworkx-0.17.1-cp39-abi3-manylinux_2_17_x86_64.manylinux2014_x86_64.whl (2.2 MB)\n",
            "\u001b[2K   \u001b[90m━━━━━━━━━━━━━━━━━━━━━━━━━━━━━━━━━━━━━━━━\u001b[0m \u001b[32m2.2/2.2 MB\u001b[0m \u001b[31m61.8 MB/s\u001b[0m eta \u001b[36m0:00:00\u001b[0m\n",
            "\u001b[?25hDownloading appdirs-1.4.4-py2.py3-none-any.whl (9.6 kB)\n",
            "Downloading diastatic_malt-2.15.2-py3-none-any.whl (167 kB)\n",
            "\u001b[2K   \u001b[90m━━━━━━━━━━━━━━━━━━━━━━━━━━━━━━━━━━━━━━━━\u001b[0m \u001b[32m167.9/167.9 kB\u001b[0m \u001b[31m15.8 MB/s\u001b[0m eta \u001b[36m0:00:00\u001b[0m\n",
            "\u001b[?25hDownloading scipy_openblas32-0.3.30.0.2-py3-none-manylinux2014_x86_64.manylinux_2_17_x86_64.whl (8.6 MB)\n",
            "\u001b[2K   \u001b[90m━━━━━━━━━━━━━━━━━━━━━━━━━━━━━━━━━━━━━━━━\u001b[0m \u001b[32m8.6/8.6 MB\u001b[0m \u001b[31m98.9 MB/s\u001b[0m eta \u001b[36m0:00:00\u001b[0m\n",
            "\u001b[?25hInstalling collected packages: appdirs, scipy-openblas32, rustworkx, autoray, diastatic-malt, pennylane-lightning, pennylane\n",
            "Successfully installed appdirs-1.4.4 autoray-0.7.2 diastatic-malt-2.15.2 pennylane-0.42.3 pennylane-lightning-0.42.0 rustworkx-0.17.1 scipy-openblas32-0.3.30.0.2\n",
            "Requirement already satisfied: pennylane[tensorflow] in /usr/local/lib/python3.12/dist-packages (0.42.3)\n",
            "\u001b[33mWARNING: pennylane 0.42.3 does not provide the extra 'tensorflow'\u001b[0m\u001b[33m\n",
            "\u001b[0mRequirement already satisfied: scipy in /usr/local/lib/python3.12/dist-packages (from pennylane[tensorflow]) (1.16.2)\n",
            "Requirement already satisfied: networkx in /usr/local/lib/python3.12/dist-packages (from pennylane[tensorflow]) (3.5)\n",
            "Requirement already satisfied: rustworkx>=0.14.0 in /usr/local/lib/python3.12/dist-packages (from pennylane[tensorflow]) (0.17.1)\n",
            "Requirement already satisfied: autograd in /usr/local/lib/python3.12/dist-packages (from pennylane[tensorflow]) (1.8.0)\n",
            "Requirement already satisfied: appdirs in /usr/local/lib/python3.12/dist-packages (from pennylane[tensorflow]) (1.4.4)\n",
            "Requirement already satisfied: autoray<0.8,>=0.6.11 in /usr/local/lib/python3.12/dist-packages (from pennylane[tensorflow]) (0.7.2)\n",
            "Requirement already satisfied: cachetools in /usr/local/lib/python3.12/dist-packages (from pennylane[tensorflow]) (5.5.2)\n",
            "Requirement already satisfied: pennylane-lightning>=0.42 in /usr/local/lib/python3.12/dist-packages (from pennylane[tensorflow]) (0.42.0)\n",
            "Requirement already satisfied: requests in /usr/local/lib/python3.12/dist-packages (from pennylane[tensorflow]) (2.32.4)\n",
            "Requirement already satisfied: tomlkit in /usr/local/lib/python3.12/dist-packages (from pennylane[tensorflow]) (0.13.3)\n",
            "Requirement already satisfied: typing_extensions in /usr/local/lib/python3.12/dist-packages (from pennylane[tensorflow]) (4.15.0)\n",
            "Requirement already satisfied: packaging in /usr/local/lib/python3.12/dist-packages (from pennylane[tensorflow]) (25.0)\n",
            "Requirement already satisfied: diastatic-malt in /usr/local/lib/python3.12/dist-packages (from pennylane[tensorflow]) (2.15.2)\n",
            "Requirement already satisfied: numpy in /usr/local/lib/python3.12/dist-packages (from pennylane[tensorflow]) (2.0.2)\n",
            "Requirement already satisfied: scipy-openblas32>=0.3.26 in /usr/local/lib/python3.12/dist-packages (from pennylane-lightning>=0.42->pennylane[tensorflow]) (0.3.30.0.2)\n",
            "Requirement already satisfied: astunparse in /usr/local/lib/python3.12/dist-packages (from diastatic-malt->pennylane[tensorflow]) (1.6.3)\n",
            "Requirement already satisfied: gast in /usr/local/lib/python3.12/dist-packages (from diastatic-malt->pennylane[tensorflow]) (0.6.0)\n",
            "Requirement already satisfied: termcolor in /usr/local/lib/python3.12/dist-packages (from diastatic-malt->pennylane[tensorflow]) (3.1.0)\n",
            "Requirement already satisfied: charset_normalizer<4,>=2 in /usr/local/lib/python3.12/dist-packages (from requests->pennylane[tensorflow]) (3.4.3)\n",
            "Requirement already satisfied: idna<4,>=2.5 in /usr/local/lib/python3.12/dist-packages (from requests->pennylane[tensorflow]) (3.10)\n",
            "Requirement already satisfied: urllib3<3,>=1.21.1 in /usr/local/lib/python3.12/dist-packages (from requests->pennylane[tensorflow]) (2.5.0)\n",
            "Requirement already satisfied: certifi>=2017.4.17 in /usr/local/lib/python3.12/dist-packages (from requests->pennylane[tensorflow]) (2025.8.3)\n",
            "Requirement already satisfied: wheel<1.0,>=0.23.0 in /usr/local/lib/python3.12/dist-packages (from astunparse->diastatic-malt->pennylane[tensorflow]) (0.45.1)\n",
            "Requirement already satisfied: six<2.0,>=1.6.1 in /usr/local/lib/python3.12/dist-packages (from astunparse->diastatic-malt->pennylane[tensorflow]) (1.17.0)\n"
          ]
        }
      ]
    },
    {
      "cell_type": "markdown",
      "source": [
        "### Quantum Basics in Pennylane"
      ],
      "metadata": {
        "id": "ukWA0bzHGVhn"
      }
    },
    {
      "cell_type": "code",
      "source": [
        "import pennylane as qml\n",
        "from pennylane import numpy as np\n",
        "\n",
        "# Device: 1 magic coin (qubit)\n",
        "dev = qml.device(\"default.qubit\", wires=1, shots=10)\n",
        "\n",
        "# 1. Ordinary coin (always 0)\n",
        "@qml.qnode(dev)\n",
        "def ordinary_coin():\n",
        "    # do nothing, leave in |0>\n",
        "    return qml.sample(qml.PauliZ(0))   # measure\n",
        "print(\"Ordinary coin results:\", ordinary_coin())\n",
        "\n",
        "# 2. Flip with X gate (always 1)\n",
        "@qml.qnode(dev)\n",
        "def flipped_coin():\n",
        "    qml.PauliX(wires=0)  # flip 0 -> 1\n",
        "    return qml.sample(qml.PauliZ(0))\n",
        "print(\"Flipped coin results:\", flipped_coin())\n",
        "\n",
        "# 3. Magic coin (superposition with Hadamard)\n",
        "@qml.qnode(dev)\n",
        "def magic_coin():\n",
        "    qml.Hadamard(wires=0)  # put coin in 0+1 state\n",
        "    return qml.sample(qml.PauliZ(0))\n",
        "print(\"Magic coin results (random mix):\", magic_coin())\n"
      ],
      "metadata": {
        "colab": {
          "base_uri": "https://localhost:8080/"
        },
        "id": "77QktCIBFx9g",
        "outputId": "2ea88ef2-f909-41dd-b574-7188dc8dac53"
      },
      "execution_count": 2,
      "outputs": [
        {
          "output_type": "stream",
          "name": "stdout",
          "text": [
            "Ordinary coin results: [1. 1. 1. 1. 1. 1. 1. 1. 1. 1.]\n",
            "Flipped coin results: [-1. -1. -1. -1. -1. -1. -1. -1. -1. -1.]\n",
            "Magic coin results (random mix): [ 1.  1.  1.  1. -1. -1. -1.  1. -1.  1.]\n"
          ]
        }
      ]
    },
    {
      "cell_type": "markdown",
      "source": [
        "Output tracing:\n",
        "\n",
        "- +1 = qubit is in |0⟩ (heads).\n",
        "\n",
        "- -1 = qubit is in |1⟩ (tails).\n",
        "\n",
        "- Ordinary coin = always +1.\n",
        "\n",
        "- Flipped coin = always -1.\n",
        "\n",
        "- Magic coin = random mix of +1 and -1 (superposition)."
      ],
      "metadata": {
        "id": "Q0YJ3oHKKcWF"
      }
    },
    {
      "cell_type": "markdown",
      "source": [
        "### Variational Circuits (Trainable Quantum Circuits)"
      ],
      "metadata": {
        "id": "J_q1pLdvLIYZ"
      }
    },
    {
      "cell_type": "code",
      "source": [
        "# 1. Parametric Gate\n",
        "dev = qml.device(\"default.qubit\", wires=1, shots=100)\n",
        "\n",
        "@qml.qnode(dev)\n",
        "def rotation_circuit(theta):\n",
        "    qml.RX(theta, wires=0)       # rotate by theta\n",
        "    return qml.sample(qml.PauliZ(0))\n",
        "\n",
        "# Try different theta values\n",
        "print(\"theta=0:\", rotation_circuit(0.0))         # all +1 (state |0>)\n",
        "print(\"theta=π:\", rotation_circuit(np.pi))       # all -1 (state |1>)\n",
        "print(\"theta=π/2:\", rotation_circuit(np.pi/2))   # mix of +1 and -1\n"
      ],
      "metadata": {
        "colab": {
          "base_uri": "https://localhost:8080/"
        },
        "id": "2rASLriRFx_i",
        "outputId": "c55951b1-dca8-48c2-ba7b-9bd6bb5cd78b"
      },
      "execution_count": 3,
      "outputs": [
        {
          "output_type": "stream",
          "name": "stdout",
          "text": [
            "theta=0: [1. 1. 1. 1. 1. 1. 1. 1. 1. 1. 1. 1. 1. 1. 1. 1. 1. 1. 1. 1. 1. 1. 1. 1.\n",
            " 1. 1. 1. 1. 1. 1. 1. 1. 1. 1. 1. 1. 1. 1. 1. 1. 1. 1. 1. 1. 1. 1. 1. 1.\n",
            " 1. 1. 1. 1. 1. 1. 1. 1. 1. 1. 1. 1. 1. 1. 1. 1. 1. 1. 1. 1. 1. 1. 1. 1.\n",
            " 1. 1. 1. 1. 1. 1. 1. 1. 1. 1. 1. 1. 1. 1. 1. 1. 1. 1. 1. 1. 1. 1. 1. 1.\n",
            " 1. 1. 1. 1.]\n",
            "theta=π: [-1. -1. -1. -1. -1. -1. -1. -1. -1. -1. -1. -1. -1. -1. -1. -1. -1. -1.\n",
            " -1. -1. -1. -1. -1. -1. -1. -1. -1. -1. -1. -1. -1. -1. -1. -1. -1. -1.\n",
            " -1. -1. -1. -1. -1. -1. -1. -1. -1. -1. -1. -1. -1. -1. -1. -1. -1. -1.\n",
            " -1. -1. -1. -1. -1. -1. -1. -1. -1. -1. -1. -1. -1. -1. -1. -1. -1. -1.\n",
            " -1. -1. -1. -1. -1. -1. -1. -1. -1. -1. -1. -1. -1. -1. -1. -1. -1. -1.\n",
            " -1. -1. -1. -1. -1. -1. -1. -1. -1. -1.]\n",
            "theta=π/2: [ 1. -1.  1. -1. -1.  1. -1. -1. -1.  1.  1.  1. -1.  1. -1. -1.  1.  1.\n",
            " -1. -1.  1. -1. -1. -1.  1.  1. -1. -1. -1. -1.  1. -1.  1.  1.  1.  1.\n",
            " -1.  1.  1. -1.  1. -1. -1. -1. -1.  1.  1. -1.  1. -1. -1. -1.  1. -1.\n",
            " -1. -1.  1. -1.  1.  1. -1. -1. -1. -1.  1.  1. -1.  1. -1. -1.  1. -1.\n",
            "  1. -1. -1. -1. -1. -1.  1.  1.  1. -1.  1.  1.  1. -1.  1. -1.  1. -1.\n",
            "  1.  1. -1.  1.  1. -1. -1. -1.  1. -1.]\n"
          ]
        }
      ]
    },
    {
      "cell_type": "code",
      "source": [
        "# 2. Expectation Value (average outcome)\n",
        "\n",
        "dev = qml.device(\"default.qubit\", wires=1)\n",
        "\n",
        "@qml.qnode(dev)\n",
        "def expectation(theta):\n",
        "    qml.RX(theta, wires=0)\n",
        "    return qml.expval(qml.PauliZ(0))   # average value\n",
        "\n",
        "print(\"theta=0:\", expectation(0.0))        # ≈ +1\n",
        "print(\"theta=π:\", expectation(np.pi))      # ≈ -1\n",
        "print(\"theta=π/2:\", expectation(np.pi/2))  # ≈ 0\n"
      ],
      "metadata": {
        "colab": {
          "base_uri": "https://localhost:8080/"
        },
        "id": "0zy8o_RNLJ8H",
        "outputId": "88bab56f-441c-4601-e69f-243467104638"
      },
      "execution_count": 4,
      "outputs": [
        {
          "output_type": "stream",
          "name": "stdout",
          "text": [
            "theta=0: 1.0\n",
            "theta=π: -1.0\n",
            "theta=π/2: 2.220446049250313e-16\n"
          ]
        }
      ]
    },
    {
      "cell_type": "markdown",
      "source": [
        "Parametric gates let us tune quantum circuits.\n",
        "\n",
        "By adjusting θ, we can control probabilities.\n",
        "\n",
        "This is the basis of variational quantum algorithms (like VQE, QAOA, quantum neural networks)."
      ],
      "metadata": {
        "id": "Yii9EFrsLtze"
      }
    },
    {
      "cell_type": "markdown",
      "source": [
        "### Quantum + Classical ML (Hybrid Models)"
      ],
      "metadata": {
        "id": "HF0fTfv5MLSS"
      }
    },
    {
      "cell_type": "code",
      "source": [
        "\"\"\"\n",
        "1. Quantum Circuit as a Layer\n",
        "\n",
        "We can treat a quantum circuit (with parameters θ) like a layer in a neural network.\n",
        "\n",
        "Input → encoded into qubits\n",
        "\n",
        "Circuit applies trainable rotations\n",
        "\n",
        "Output → measured expectation value\n",
        "\"\"\""
      ],
      "metadata": {
        "id": "xrQ-yfNXLJ-o"
      },
      "execution_count": null,
      "outputs": []
    },
    {
      "cell_type": "code",
      "source": [
        "import pennylane as qml\n",
        "from pennylane import numpy as np\n",
        "import torch\n",
        "from torch import nn, optim\n",
        "\n",
        "# Quantum device\n",
        "n_qubits = 1\n",
        "dev = qml.device(\"default.qubit\", wires=n_qubits)\n",
        "\n",
        "# Quantum circuit\n",
        "@qml.qnode(dev, interface=\"torch\", diff_method=\"backprop\")\n",
        "def quantum_circuit(x, weights):\n",
        "    qml.RX(x, wires=0)\n",
        "    qml.RY(weights[0], wires=0)\n",
        "    return qml.expval(qml.PauliZ(0))\n",
        "\n",
        "# Quantum layer\n",
        "class QuantumLayer(nn.Module):\n",
        "    def __init__(self):\n",
        "        super().__init__()\n",
        "        self.weights = nn.Parameter(torch.tensor([0.1], dtype=torch.float32))\n",
        "\n",
        "    def forward(self, x):\n",
        "        # Run quantum circuit and cast output to float32\n",
        "        results = [quantum_circuit(v, self.weights) for v in x]\n",
        "        results = torch.stack(results)\n",
        "        return results.float()   # <---- FORCE CAST HERE\n",
        "\n",
        "# Hybrid model\n",
        "model = nn.Sequential(\n",
        "    QuantumLayer(),\n",
        "    nn.Linear(1, 1),   # classical layer\n",
        "    nn.Sigmoid()\n",
        ")\n",
        "\n",
        "# Data (force float32)\n",
        "X = torch.tensor([0.0, np.pi], dtype=torch.float32)\n",
        "y = torch.tensor([[0.0], [1.0]], dtype=torch.float32)\n",
        "\n",
        "# Loss + optimizer\n",
        "criterion = nn.MSELoss()\n",
        "optimizer = optim.SGD(model.parameters(), lr=0.1)\n",
        "\n",
        "# Training loop\n",
        "for epoch in range(20):\n",
        "    optimizer.zero_grad()\n",
        "    outputs = model(X.unsqueeze(1))   # (2,1)\n",
        "    loss = criterion(outputs, y)\n",
        "    loss.backward()\n",
        "    optimizer.step()\n",
        "    print(f\"Epoch {epoch+1}, Loss: {loss.item():.4f}\")\n"
      ],
      "metadata": {
        "colab": {
          "base_uri": "https://localhost:8080/"
        },
        "id": "BXVbNxBFLKAM",
        "outputId": "a8a35bfa-1268-43f6-e468-0b44779591a9"
      },
      "execution_count": 8,
      "outputs": [
        {
          "output_type": "stream",
          "name": "stdout",
          "text": [
            "Epoch 1, Loss: 0.5290\n",
            "Epoch 2, Loss: 0.5213\n",
            "Epoch 3, Loss: 0.5135\n",
            "Epoch 4, Loss: 0.5057\n",
            "Epoch 5, Loss: 0.4978\n",
            "Epoch 6, Loss: 0.4899\n",
            "Epoch 7, Loss: 0.4820\n",
            "Epoch 8, Loss: 0.4741\n",
            "Epoch 9, Loss: 0.4662\n",
            "Epoch 10, Loss: 0.4582\n",
            "Epoch 11, Loss: 0.4503\n",
            "Epoch 12, Loss: 0.4424\n",
            "Epoch 13, Loss: 0.4345\n",
            "Epoch 14, Loss: 0.4266\n",
            "Epoch 15, Loss: 0.4187\n",
            "Epoch 16, Loss: 0.4109\n",
            "Epoch 17, Loss: 0.4031\n",
            "Epoch 18, Loss: 0.3954\n",
            "Epoch 19, Loss: 0.3877\n",
            "Epoch 20, Loss: 0.3800\n"
          ]
        }
      ]
    },
    {
      "cell_type": "code",
      "source": [
        "\"\"\"\n",
        "The quantum circuit (with RX + RY gates) learns how to rotate the qubit depending on input.\n",
        "\n",
        "The classical linear layer maps the quantum measurement to a probability.\n",
        "\n",
        "The optimizer updates the parameter so the output for input=0 moves toward 0, and for input=π moves toward 1.\n",
        "\"\"\""
      ],
      "metadata": {
        "id": "1J3qtKNwLKDj"
      },
      "execution_count": null,
      "outputs": []
    },
    {
      "cell_type": "code",
      "source": [
        "import matplotlib.pyplot as plt\n",
        "\n",
        "# Generate test inputs between 0 and π\n",
        "test_inputs = torch.linspace(0, np.pi, 100).unsqueeze(1)  # shape (100,1)\n",
        "with torch.no_grad():\n",
        "    predictions = model(test_inputs).numpy()\n",
        "\n",
        "# Convert training data for plotting\n",
        "X_np = X.numpy()\n",
        "y_np = y.numpy()\n",
        "\n",
        "# Plot\n",
        "plt.figure(figsize=(8,5))\n",
        "plt.plot(test_inputs.numpy(), predictions, label=\"Model Prediction Curve\", color=\"blue\")\n",
        "plt.scatter(X_np, y_np, color=\"red\", s=100, marker=\"o\", label=\"Training Data\")\n",
        "plt.title(\"Hybrid Quantum-Classical Model\")\n",
        "plt.xlabel(\"Input (x)\")\n",
        "plt.ylabel(\"Prediction (Probability of Class 1)\")\n",
        "plt.legend()\n",
        "plt.grid(True)\n",
        "plt.show()\n"
      ],
      "metadata": {
        "colab": {
          "base_uri": "https://localhost:8080/",
          "height": 487
        },
        "id": "KmY_FHwjFyB1",
        "outputId": "4dd02022-3f9d-4f86-b3d5-4739a70f51d7"
      },
      "execution_count": 10,
      "outputs": [
        {
          "output_type": "display_data",
          "data": {
            "text/plain": [
              "<Figure size 800x500 with 1 Axes>"
            ],
            "image/png": "[encoded data removed]"
          },
          "metadata": {}
        }
      ]
    },
    {
      "cell_type": "code",
      "source": [],
      "metadata": {
        "id": "M8f1Y7jLFyFS"
      },
      "execution_count": null,
      "outputs": []
    }
  ]
}